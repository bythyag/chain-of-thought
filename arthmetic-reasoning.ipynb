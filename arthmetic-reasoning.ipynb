{
  "nbformat": 4,
  "nbformat_minor": 0,
  "metadata": {
    "colab": {
      "provenance": [],
      "gpuType": "T4",
      "authorship_tag": "ABX9TyOI3irKxj0p6Dt9L6Zpm42b",
      "include_colab_link": true
    },
    "kernelspec": {
      "name": "python3",
      "display_name": "Python 3"
    },
    "language_info": {
      "name": "python"
    },
    "accelerator": "GPU"
  },
  "cells": [
    {
      "cell_type": "markdown",
      "metadata": {
        "id": "view-in-github",
        "colab_type": "text"
      },
      "source": [
        "<a href=\"https://colab.research.google.com/github/bythyag/chain-of-thought/blob/main/arthmetic-reasoning.ipynb\" target=\"_parent\"><img src=\"https://colab.research.google.com/assets/colab-badge.svg\" alt=\"Open In Colab\"/></a>"
      ]
    },
    {
      "cell_type": "markdown",
      "source": [
        "### necessary evil"
      ],
      "metadata": {
        "id": "PwymXyLz2hlb"
      }
    },
    {
      "cell_type": "code",
      "execution_count": 1,
      "metadata": {
        "id": "mN25H5HMa1hL"
      },
      "outputs": [],
      "source": [
        "# installations - if done locally, need to install more libraries depending upon requirements\n",
        "%%capture\n",
        "!pip install --upgrade datasets fsspec huggingface_hub"
      ]
    },
    {
      "cell_type": "code",
      "source": [
        "# import modules\n",
        "\n",
        "import re\n",
        "import os\n",
        "import json\n",
        "import time\n",
        "import torch\n",
        "import pandas as pd\n",
        "from tqdm import tqdm\n",
        "from google import genai\n",
        "#from openai import OpenAI\n",
        "from google.genai import types\n",
        "from datasets import load_dataset\n",
        "from transformers import pipeline\n",
        "from google.colab import userdata\n",
        "from transformers import AutoModelForCausalLM, AutoTokenizer"
      ],
      "metadata": {
        "id": "odm0drCzdm8x"
      },
      "execution_count": 2,
      "outputs": []
    },
    {
      "cell_type": "markdown",
      "source": [
        "### load keys"
      ],
      "metadata": {
        "id": "B_YvJuL43QuN"
      }
    },
    {
      "cell_type": "code",
      "source": [
        "# platform agnostic method to load API keys\n",
        "os.environ['OPENAI_API_KEY'] = userdata.get('OPENAI_API')\n",
        "gemini_api = userdata.get('GEMINI_API')"
      ],
      "metadata": {
        "id": "ron37yLd3Qjy"
      },
      "execution_count": 3,
      "outputs": []
    },
    {
      "cell_type": "markdown",
      "source": [
        "### load dataset"
      ],
      "metadata": {
        "id": "UW-M3Sa1e9_L"
      }
    },
    {
      "cell_type": "code",
      "source": [
        "%%capture\n",
        "# load datasets\n",
        "\n",
        "gsm8k = load_dataset(\"openai/gsm8k\", \"main\")\n",
        "svamp = load_dataset(\"ChilleD/SVAMP\")\n",
        "asdiv = load_dataset(\"EleutherAI/asdiv\")\n",
        "aqua = load_dataset(\"deepmind/aqua_rat\")\n",
        "mawps = load_dataset(\"MU-NLPC/Calc-mawps\")"
      ],
      "metadata": {
        "colab": {
          "base_uri": "https://localhost:8080/",
          "height": 106
        },
        "id": "035mbgOZe0rk",
        "outputId": "4f88914c-1fed-4352-fdae-9b55b07c7226"
      },
      "execution_count": 3,
      "outputs": [
        {
          "name": "stdout",
          "output_type": "stream",
          "text": [
            "The repository for EleutherAI/asdiv contains custom code which must be executed to correctly load the dataset. You can inspect the repository content at https://hf.co/datasets/EleutherAI/asdiv.\n",
            "You can avoid this prompt in future by passing the argument `trust_remote_code=True`.\n",
            "\n",
            "Do you wish to run the custom code? [y/N] y\n"
          ]
        }
      ]
    },
    {
      "cell_type": "markdown",
      "source": [
        "### explore dataset"
      ],
      "metadata": {
        "id": "QNNGW1wSg4dP"
      }
    },
    {
      "cell_type": "code",
      "source": [
        "# gsm8k\n",
        "print(\"---- gsm8k dataset sample ----\\n\")\n",
        "print(\"Question:\\n\" + gsm8k['train']['question'][0] + \"\\n\")\n",
        "print(\"Answer:\\n\" + gsm8k['train']['answer'][0])"
      ],
      "metadata": {
        "id": "zQS4YiQXg3ww"
      },
      "execution_count": null,
      "outputs": []
    },
    {
      "cell_type": "code",
      "source": [
        "# svamp\n",
        "print(\"---- svamp dataset sample ----\\n\")\n",
        "print(\"Question:\\n\" + svamp['train']['question_concat'][0] + \"\\n\")\n",
        "print(\"Answer:\\n\" + svamp['train']['Answer'][0])"
      ],
      "metadata": {
        "id": "nmS1Achbhj4G"
      },
      "execution_count": null,
      "outputs": []
    },
    {
      "cell_type": "code",
      "source": [
        "# asdiv\n",
        "print(\"---- asdiv dataset sample ----\\n\")\n",
        "print(\"Question:\\n\" + asdiv['validation']['body'][0] + \" \" + asdiv['validation']['question'][0] + \"\\n\")\n",
        "print(\"Answer:\\n\" + asdiv['validation']['answer'][0])"
      ],
      "metadata": {
        "id": "6UN7F-Dth600"
      },
      "execution_count": null,
      "outputs": []
    },
    {
      "cell_type": "code",
      "source": [
        "# aqua\n",
        "print(\"---- aqua dataset sample ----\\n\")\n",
        "print(\"Question:\\n\" + aqua['train']['question'][10] + \"\\n\")\n",
        "print(f\"Answer Choices:\\n{aqua['train']['options'][10]}\" + \"\\n\") # aqua['train']['options'][0] is a list of options\n",
        "print(\"Answer:\\n\" + aqua['train']['correct'][10])"
      ],
      "metadata": {
        "id": "fmYqeRY5iUGN"
      },
      "execution_count": null,
      "outputs": []
    },
    {
      "cell_type": "code",
      "source": [
        "# mawps\n",
        "print(\"---- mawps dataset sample ----\\n\")\n",
        "print(\"Question:\\n\" + mawps['train']['question'][0] + \"\\n\")\n",
        "print(\"Answer:\\n\"+ mawps['train']['result'][0])"
      ],
      "metadata": {
        "id": "lsEu3CZsjc-I"
      },
      "execution_count": null,
      "outputs": []
    },
    {
      "cell_type": "markdown",
      "source": [
        "### prompt template"
      ],
      "metadata": {
        "id": "I6oNra363CW8"
      }
    },
    {
      "cell_type": "code",
      "source": [
        "PROMPT_TEMPLATE_1 = \"\"\"\n",
        "Q: There are 15 trees in the grove. Grove workers will plant trees in the grove today. After they are done, there\n",
        "will be 21 trees. How many trees did the grove workers plant today?\n",
        "A: There are 15 trees originally. Then there were 21 trees after some more were planted. So there must have\n",
        "been 21 - 15 = 6. The answer is 6.\n",
        "\n",
        "Q: If there are 3 cars in the parking lot and 2 more cars arrive, how many cars are in the parking lot?\n",
        "A: There are originally 3 cars. 2 more cars arrive. 3 + 2 = 5. The answer is 5.\n",
        "\n",
        "Q: Leah had 32 chocolates and her sister had 42. If they ate 35, how many pieces do they have left in total?\n",
        "A: Originally, Leah had 32 chocolates. Her sister had 42. So in total they had 32 + 42 = 74. After eating 35, they\n",
        "had 74 - 35 = 39. The answer is 39.\n",
        "\n",
        "Q: Jason had 20 lollipops. He gave Denny some lollipops. Now Jason has 12 lollipops. How many lollipops did\n",
        "Jason give to Denny?\n",
        "A: Jason started with 20 lollipops. Then he had 12 after giving some to Denny. So he gave Denny 20 - 12 = 8.\n",
        "The answer is 8.\n",
        "\n",
        "Q: Shawn has five toys. For Christmas, he got two toys each from his mom and dad. How many toys does he\n",
        "have now?\n",
        "A: Shawn started with 5 toys. If he got 2 toys each from his mom and dad, then that is 4 more toys. 5 + 4 = 9.\n",
        "The answer is 9.\n",
        "\n",
        "Q: There were nine computers in the server room. Five more computers were installed each day, from monday\n",
        "to thursday. How many computers are now in the server room?\n",
        "A: There were originally 9 computers. For each of 4 days, 5 more computers were added. So 5 * 4 = 20\n",
        "computers were added. 9 + 20 is 29. The answer is 29.\n",
        "\n",
        "Q: Michael had 58 golf balls. On tuesday, he lost 23 golf balls. On wednesday, he lost 2 more. How many golf\n",
        "balls did he have at the end of wednesday?\n",
        "A: Michael started with 58 golf balls. After losing 23 on tuesday, he had 58 - 23 = 35. After losing 2 more, he\n",
        "had 35 - 2 = 33 golf balls. The answer is 33.\n",
        "\n",
        "Q: Olivia has $23. She bought five bagels for $3 each. How much money does she have left?\n",
        "A: Olivia had 23 dollars. 5 bagels for 3 dollars each will be 5 x 3 = 15 dollars. So she has 23 - 15 dollars left. 23\n",
        "- 15 is 8. The answer is 8.\n",
        "\n",
        "Q: {question}\n",
        "A:\n",
        "\"\"\"\n",
        "\n",
        "PROMPT_TEMPLATE_2 = \"\"\"\n",
        "Q: John found that the average of 15 numbers is 40. If 10 is added to each number then the mean of the numbers is?\n",
        "Answer Choices: (a) 50 (b) 45 (c) 65 (d) 78 (e) 64\n",
        "A: If 10 is added to each number, then the mean of the numbers also increases by 10. So the new mean would be 50. The answer is (a).\n",
        "\n",
        "Q: If a / b = 3/4 and 8a + 5b = 22,then find the value of a.\n",
        "Answer Choices: (a) 1/2 (b) 3/2 (c) 5/2 (d) 4/2 (e) 7/2\n",
        "A: If a / b = 3/4, then b = 4a / 3. So 8a + 5(4a / 3) = 22. This simplifies to 8a + 20a / 3 = 22, which means 44a / 3 = 22. So a is equal to 3/2. The answer is (b).\n",
        "\n",
        "Q: A person is traveling at 20 km/hr and reached his destiny in 2.5 hr then find the distance?\n",
        "Answer Choices: (a) 53 km (b) 55 km (c) 52 km (d) 60 km (e) 50 km\n",
        "A: The distance that the person traveled would have been 20 km/hr * 2.5 hrs = 50 km. The answer is (e).\n",
        "\n",
        "Q: How many keystrokes are needed to type the numbers from 1 to 500?\n",
        "Answer Choices: (a) 1156 (b) 1392 (c) 1480 (d) 1562 (e) 1788\n",
        "A: There are 9 one-digit numbers from 1 to 9. There are 90 two-digit numbers from 10 to 99. There are 401\n",
        "three-digit numbers from 100 to 500. 9 + 90(2) + 401(3) = 1392. The answer is (b).\n",
        "\n",
        "Q: {question}\n",
        "\"\"\""
      ],
      "metadata": {
        "id": "Qst1YZY6ehMf"
      },
      "execution_count": 4,
      "outputs": []
    },
    {
      "cell_type": "markdown",
      "source": [
        "### load models"
      ],
      "metadata": {
        "id": "vPVj092LfAz3"
      }
    },
    {
      "cell_type": "code",
      "source": [
        "# open-ai\n",
        "\n",
        "client = OpenAI()\n",
        "\n",
        "model_name = [\"gpt-4.1-nano-2025-04-14\", \"gpt-4o-mini\"]\n",
        "\n",
        "def run_gpt(prompt_type, dataset_name, model_name, questions, original_reponse, sample_size, prompt_template):\n",
        "  chat_response = []\n",
        "\n",
        "  for i in tqdm(range(sample_size), desc=\"processing questions\"):\n",
        "    question = questions[i]\n",
        "    original_answer = original_reponse[i]\n",
        "\n",
        "    if prompt_type == \"few-shot\":\n",
        "      prompt = prompt_template.format(question=question)\n",
        "      instructions = \"You are a helpful assistant. Follow the few-shot example format provided by the user.\"\n",
        "    else:\n",
        "      prompt = question\n",
        "      instructions = \"You are a helpful assistant.\"\n",
        "\n",
        "    response = client.responses.create(\n",
        "        model=model_name,\n",
        "        instructions=instructions,\n",
        "        input=prompt,\n",
        "        temperature=0.0,\n",
        "    )\n",
        "    model_answer = response.output_text\n",
        "    chat_response.append(\n",
        "        {\n",
        "            'question': question,\n",
        "            'original_answer': original_answer,\n",
        "            'answer_text': model_answer\n",
        "        }\n",
        "    )\n",
        "    output_filename = f\"{dataset_name}-{prompt_type}-{model_name.replace('.', '-')}.json\"\n",
        "  with open(output_filename, \"w\", encoding=\"utf-8\") as f:\n",
        "      json.dump(chat_response, f, ensure_ascii=False, indent=4)\n",
        "\n",
        "run_gpt(\"base\", \"aqua\", \"gpt-4o-mini\", gsm8k['train']['question'],asdiv['validation']['answer'], 20, PROMPT_TEMPLATE_1 )"
      ],
      "metadata": {
        "id": "FbMgHvgle5Hc"
      },
      "execution_count": null,
      "outputs": []
    },
    {
      "cell_type": "code",
      "source": [
        "# gemini\n",
        "\n",
        "client = genai.Client(api_key=gemini_api)\n",
        "\n",
        "models = [\"gemini-2.0-flash\", \"gemini-1.5-flash\"]\n",
        "\n",
        "def run_gemini(prompt_type, dataset_name, model_name, questions, original_reponse, sample_size, prompt_template):\n",
        "  chat_response = []\n",
        "\n",
        "  for i in tqdm(range(sample_size), desc=\"processing questions\"):\n",
        "    question = questions[i]\n",
        "    original_answer = original_reponse[i]\n",
        "\n",
        "    if prompt_type == \"few-shot\":\n",
        "      prompt = prompt_template.format(question=question)\n",
        "      instructions = \"You are a helpful assistant. Follow the few-shot example format provided by the user.\"\n",
        "    else:\n",
        "      prompt = question\n",
        "      instructions = \"You are a helpful assistant.\"\n",
        "\n",
        "    response = client.models.generate_content(\n",
        "        model=model_name,\n",
        "        contents=prompt,\n",
        "        config=types.GenerateContentConfig(\n",
        "            system_instruction=instructions,\n",
        "            temperature=0\n",
        "            )\n",
        "        )\n",
        "    model_answer = response.text\n",
        "\n",
        "    chat_response.append(\n",
        "        {\n",
        "            'question': question,\n",
        "            'original_answer': original_answer,\n",
        "            'answer_text': model_answer\n",
        "        }\n",
        "    )\n",
        "    time.sleep(10)\n",
        "\n",
        "  output_filename = f\"{dataset_name}-{prompt_type}-{model_name.replace('.', '-')}.json\"\n",
        "  with open(output_filename, \"w\", encoding=\"utf-8\") as f:\n",
        "      json.dump(chat_response, f, ensure_ascii=False, indent=4)\n",
        "\n",
        "# questions = [\n",
        "#     asdiv['validation']['body'][i] + \" \" + asdiv['validation']['question'][i]\n",
        "#     for i in range(20)\n",
        "# ]\n",
        "# answers = [asdiv['validation']['answer'][i] for i in range(20)]\n",
        "\n",
        "# combined_qas = []\n",
        "\n",
        "# for i in range(20):\n",
        "#     question = aqua['train']['question'][i]\n",
        "#     options = aqua['train']['options'][i]\n",
        "#     formatted_options = ' '.join(options)\n",
        "#     combined_qas.append(f\"Question:\\n{question}\\n\\nAnswer Choices:\\n{formatted_options}\")\n",
        "\n",
        "run_gemini(\"few-shot\", \"asdiv\", \"gemini-2.0-flash\", questions, answers, 20, PROMPT_TEMPLATE_2)"
      ],
      "metadata": {
        "id": "QylhVHFmfDpH"
      },
      "execution_count": null,
      "outputs": []
    },
    {
      "cell_type": "code",
      "source": [
        "from tqdm import tqdm\n",
        "import json\n",
        "import time\n",
        "from transformers import pipeline\n",
        "import torch\n",
        "import torch._dynamo\n",
        "torch._dynamo.config.cache_size_limit = 64  # or a higher value than 8\n",
        "torch._dynamo.disable()\n",
        "\n",
        "pipe = pipeline(\n",
        "    \"text-generation\",\n",
        "    model=\"google/gemma-3-1b-it\",\n",
        "    device=\"cuda\",\n",
        ")\n",
        "\n",
        "def run_gemma(prompt_type, dataset_name, model_name, questions, original_answers, sample_size, prompt_template):\n",
        "    results = []\n",
        "\n",
        "    for i in tqdm(range(sample_size), desc=\"processing questions\"):\n",
        "        question = questions[i]\n",
        "        original_answer = original_answers[i]\n",
        "\n",
        "        if prompt_type == \"few-shot\":\n",
        "            user_prompt = prompt_template.format(question=question)\n",
        "            system_prompt = \"You are a helpful assistant. Follow the few-shot example in the message provided by the user.\"\n",
        "        else:\n",
        "            user_prompt = question\n",
        "            system_prompt = \"You are a helpful assistant.\"\n",
        "\n",
        "        messages = [\n",
        "            {\"role\": \"system\", \"content\": [{\"type\": \"text\", \"text\": system_prompt}]},\n",
        "            {\"role\": \"user\", \"content\": [{\"type\": \"text\", \"text\": user_prompt}]}\n",
        "        ]\n",
        "\n",
        "        output = pipe(text_inputs=messages, max_new_tokens=3000)\n",
        "        generated_answer = output[0]['generated_text'][-1].get('content', '')\n",
        "\n",
        "        results.append({\n",
        "            \"question\": question,\n",
        "            \"original_answer\": original_answer,\n",
        "            \"generated_answer\": generated_answer\n",
        "        })\n",
        "\n",
        "    output_filename = f\"{dataset_name}-{prompt_type}-{model_name.replace('.', '-')}.json\"\n",
        "    with open(output_filename, \"w\", encoding=\"utf-8\") as f:\n",
        "        json.dump(results, f, ensure_ascii=False, indent=4)\n",
        "\n",
        "# combined_qas = []\n",
        "\n",
        "# for i in range(20):\n",
        "#     question = aqua['train']['question'][i]\n",
        "#     options = aqua['train']['options'][i]\n",
        "#     formatted_options = ' '.join(options)\n",
        "#     combined_qas.append(f\"Question:\\n{question}\\n\\nAnswer Choices:\\n{formatted_options}\")\n",
        "\n",
        "# run_gemma(\"few-shot\", \"aqua\", \"gemma-3-1b-it\", combined_qas, aqua['train']['correct'], 20, PROMPT_TEMPLATE_2)\n",
        "\n",
        "# run_gemma(\"base\", \"aqua\", \"gemma-3-1b-it\", combined_qas, aqua['train']['correct'], 20, PROMPT_TEMPLATE_2)\n",
        "\n",
        "# questions = [\n",
        "#     asdiv['validation']['body'][i] + \" \" + asdiv['validation']['question'][i]\n",
        "#     for i in range(20)\n",
        "# ]\n",
        "# answers = [asdiv['validation']['answer'][i] for i in range(20)]\n",
        "\n",
        "# run_gemma(\"base\", \"asdiv\", \"gemma-3-1b-it\", questions, answers, 20, PROMPT_TEMPLATE_1)\n",
        "# run_gemma(\"few-shot\", \"asdiv\", \"gemma-3-1b-it\", questions, answers, 20, PROMPT_TEMPLATE_1)\n",
        "\n",
        "# run_gemma(\"base\", \"gsm8k\", \"gemma-3-1b-it\", gsm8k['train']['question'], gsm8k['train']['answer'], 20, PROMPT_TEMPLATE_1)\n",
        "\n",
        "# run_gemma(\"base\", \"mawps\", \"gemma-3-1b-it\", mawps['train']['question'], mawps['train']['result'], 20, PROMPT_TEMPLATE_1)\n",
        "# run_gemma(\"few-shot\", \"mawps\", \"gemma-3-1b-it\", mawps['train']['question'], mawps['train']['result'], 20, PROMPT_TEMPLATE_1)\n",
        "\n",
        "# run_gemma(\"base\", \"svamp\", \"gemma-3-1b-it\", svamp['train']['question_concat'], svamp['train']['Answer'], 20, PROMPT_TEMPLATE_1)\n",
        "# run_gemma(\"few-shot\", \"svamp\", \"gemma-3-1b-it\", svamp['train']['question_concat'],svamp['train']['Answer'], 20, PROMPT_TEMPLATE_1)"
      ],
      "metadata": {
        "id": "jl4Sl5LwfFlE",
        "colab": {
          "base_uri": "https://localhost:8080/"
        },
        "outputId": "43b0cdc2-aab8-4e72-b2f2-766cc0f565cf"
      },
      "execution_count": 6,
      "outputs": [
        {
          "output_type": "stream",
          "name": "stderr",
          "text": [
            "Device set to use cuda\n",
            "processing questions:   0%|          | 0/20 [00:00<?, ?it/s]W0528 08:35:08.502000 268 torch/_inductor/utils.py:1137] [0/0] Not enough SMs to use max_autotune_gemm mode\n",
            "processing questions:  50%|█████     | 10/20 [04:15<03:20, 20.09s/it]You seem to be using the pipelines sequentially on GPU. In order to maximize efficiency please use a dataset\n",
            "processing questions: 100%|██████████| 20/20 [07:46<00:00, 23.33s/it]\n"
          ]
        }
      ]
    },
    {
      "cell_type": "code",
      "source": [
        "# qwen3-4b\n",
        "\n",
        "model_name = \"Qwen/Qwen3-4B\"\n",
        "\n",
        "# load the tokenizer and the model\n",
        "tokenizer = AutoTokenizer.from_pretrained(model_name)\n",
        "qwen3_4b = AutoModelForCausalLM.from_pretrained(\n",
        "    model_name,\n",
        "    torch_dtype=\"auto\",\n",
        "    device_map=\"auto\"\n",
        ")\n",
        "\n",
        "# write a function for prompt input + structured output of response in a json file"
      ],
      "metadata": {
        "id": "EfgYcSYPfNYA"
      },
      "execution_count": null,
      "outputs": []
    },
    {
      "cell_type": "markdown",
      "source": [
        "### generate answers and save on google drive / locally"
      ],
      "metadata": {
        "id": "eyRr9EhF3a16"
      }
    },
    {
      "cell_type": "code",
      "source": [],
      "metadata": {
        "id": "I6Ok6AvGez_2"
      },
      "execution_count": null,
      "outputs": []
    },
    {
      "cell_type": "markdown",
      "source": [
        "### evaluate generated reponse"
      ],
      "metadata": {
        "id": "uRpbANU93m-u"
      }
    },
    {
      "cell_type": "code",
      "source": [],
      "metadata": {
        "id": "Em3h0zOz3sQc"
      },
      "execution_count": null,
      "outputs": []
    },
    {
      "cell_type": "markdown",
      "source": [
        "### graph plot"
      ],
      "metadata": {
        "id": "yRYtySoV3tek"
      }
    },
    {
      "cell_type": "markdown",
      "source": [],
      "metadata": {
        "id": "Ycg0tMTS3swv"
      }
    },
    {
      "cell_type": "code",
      "source": [],
      "metadata": {
        "id": "6KCSOftV3veL"
      },
      "execution_count": null,
      "outputs": []
    }
  ]
}