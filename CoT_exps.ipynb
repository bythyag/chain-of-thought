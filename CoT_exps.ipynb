{
  "nbformat": 4,
  "nbformat_minor": 0,
  "metadata": {
    "colab": {
      "provenance": [],
      "authorship_tag": "ABX9TyNqP0w8hKbIcRzRAGjsaYU+",
      "include_colab_link": true
    },
    "kernelspec": {
      "name": "python3",
      "display_name": "Python 3"
    },
    "language_info": {
      "name": "python"
    }
  },
  "cells": [
    {
      "cell_type": "markdown",
      "metadata": {
        "id": "view-in-github",
        "colab_type": "text"
      },
      "source": [
        "<a href=\"https://colab.research.google.com/github/bythyag/cot-exps/blob/main/CoT_exps.ipynb\" target=\"_parent\"><img src=\"https://colab.research.google.com/assets/colab-badge.svg\" alt=\"Open In Colab\"/></a>"
      ]
    },
    {
      "cell_type": "code",
      "execution_count": null,
      "metadata": {
        "id": "gF2wYXdkxmHO"
      },
      "outputs": [],
      "source": [
        "!pip install datasets"
      ]
    },
    {
      "cell_type": "code",
      "source": [
        "!pip install huggingface_hub"
      ],
      "metadata": {
        "id": "WY9Mxb82zdu3"
      },
      "execution_count": null,
      "outputs": []
    },
    {
      "cell_type": "code",
      "source": [
        "!pip install --upgrade datasets fsspec huggingface_hub"
      ],
      "metadata": {
        "id": "wQdypJ3y0TR8"
      },
      "execution_count": null,
      "outputs": []
    },
    {
      "cell_type": "code",
      "source": [
        "from huggingface_hub import login\n",
        "login(token=\"---\")"
      ],
      "metadata": {
        "id": "A61_7btLzcEl"
      },
      "execution_count": 8,
      "outputs": []
    },
    {
      "cell_type": "code",
      "source": [
        "import re"
      ],
      "metadata": {
        "id": "khR22HBU5EAJ"
      },
      "execution_count": 49,
      "outputs": []
    },
    {
      "cell_type": "code",
      "source": [
        "from datasets import load_dataset\n",
        "\n",
        "gsm8k = load_dataset(\"openai/gsm8k\", \"main\")\n",
        "svamp = load_dataset(\"ChilleD/SVAMP\")\n",
        "asdiv = load_dataset(\"EleutherAI/asdiv\")\n",
        "aqua = load_dataset(\"deepmind/aqua_rat\")\n",
        "mawps = load_dataset(\"MU-NLPC/Calc-mawps\")"
      ],
      "metadata": {
        "id": "iRDktaGEx5yS"
      },
      "execution_count": null,
      "outputs": []
    },
    {
      "cell_type": "code",
      "source": [
        "# gsm8k\n",
        "\n",
        "def extract_final_answer(text):\n",
        "    match = re.search(r'####\\s*(\\d+)', text)\n",
        "    if match:\n",
        "        return int(match.group(1))\n",
        "    return None\n",
        "\n",
        "print(gsm8k['train']['question'][5])\n",
        "#print(gsm8k['train']['answer'][5])\n",
        "answer = extract_final_answer(gsm8k['train']['answer'][5])\n",
        "print(\"Answer:\", answer)"
      ],
      "metadata": {
        "colab": {
          "base_uri": "https://localhost:8080/"
        },
        "id": "VVtfwiKAyhRe",
        "outputId": "9fb8cf21-327d-4c4d-f009-95dcec7747ce"
      },
      "execution_count": 53,
      "outputs": [
        {
          "output_type": "stream",
          "name": "stdout",
          "text": [
            "Mark has a garden with flowers. He planted plants of three different colors in it. Ten of them are yellow, and there are 80% more of those in purple. There are only 25% as many green flowers as there are yellow and purple flowers. How many flowers does Mark have in his garden?\n",
            "Answer: 35\n"
          ]
        }
      ]
    },
    {
      "cell_type": "code",
      "source": [
        "#SVAMP\n",
        "\n",
        "print(svamp['train']['question_concat'][4])\n",
        "print(svamp['train']['Answer'][4])"
      ],
      "metadata": {
        "colab": {
          "base_uri": "https://localhost:8080/"
        },
        "id": "v9ALZSu80s_Y",
        "outputId": "517ff92c-d2ea-4b73-8d8e-a739de8dd430"
      },
      "execution_count": 19,
      "outputs": [
        {
          "output_type": "stream",
          "name": "stdout",
          "text": [
            "There were 78 dollars in Olivia's wallet. She spent 15 dollars at a supermarket. How much money does she have left?\n",
            "63\n"
          ]
        }
      ]
    },
    {
      "cell_type": "code",
      "source": [
        "#asdiv\n",
        "\n",
        "print(asdiv['validation']['body'][0])\n",
        "print(asdiv['validation']['question'][0])\n",
        "print(asdiv['validation']['answer'][0])\n",
        "print(asdiv['validation']['formula'][0])"
      ],
      "metadata": {
        "colab": {
          "base_uri": "https://localhost:8080/"
        },
        "id": "wF8VF2Pd17Ix",
        "outputId": "907e45ea-4c5b-48c9-b95b-0af2a11c9b47"
      },
      "execution_count": 33,
      "outputs": [
        {
          "output_type": "stream",
          "name": "stdout",
          "text": [
            "Seven red apples and two green apples are in the basket.\n",
            "How many apples are in the basket?\n",
            "9 (apples)\n",
            "7+2=9\n"
          ]
        }
      ]
    },
    {
      "cell_type": "code",
      "source": [
        "#aqua_rat\n",
        "\n",
        "print(aqua['train']['question'][0])\n",
        "print(aqua['train']['options'][0])\n",
        "print(aqua['train']['correct'][0])"
      ],
      "metadata": {
        "colab": {
          "base_uri": "https://localhost:8080/"
        },
        "id": "y75rWVQF2nbG",
        "outputId": "5688d657-ad83-45bc-af82-eb2959ea7b64"
      },
      "execution_count": 36,
      "outputs": [
        {
          "output_type": "stream",
          "name": "stdout",
          "text": [
            "Two friends plan to walk along a 43-km trail, starting at opposite ends of the trail at the same time. If Friend P's rate is 15% faster than Friend Q's, how many kilometers will Friend P have walked when they pass each other?\n",
            "['A)21', 'B)21.5', 'C)22', 'D)22.5', 'E)23']\n",
            "E\n"
          ]
        }
      ]
    },
    {
      "cell_type": "code",
      "source": [
        "#MAWPS\n",
        "\n",
        "print(mawps['train']['question'][0])\n",
        "print(mawps['train']['result'][0])"
      ],
      "metadata": {
        "colab": {
          "base_uri": "https://localhost:8080/"
        },
        "id": "LEql1swQ2uGx",
        "outputId": "271ee640-0dd9-4dec-a81e-91161c6e54bd"
      },
      "execution_count": 46,
      "outputs": [
        {
          "output_type": "stream",
          "name": "stdout",
          "text": [
            "Mark had 2 Doll. Roland proffered him some more. Now Mark has 161 Doll. How many did Roland proffer him?\n",
            "159\n"
          ]
        }
      ]
    },
    {
      "cell_type": "code",
      "source": [
        "#PROMPT FOR MATH WORD PROBLEMS (Arithmetc Reasoning)\n",
        "\n",
        "system_message = f\"\"\"\n",
        "\n",
        "Q: There are 15 trees in the grove. Grove workers will plant trees in the grove today. After they are done, there\n",
        "will be 21 trees. How many trees did the grove workers plant today?\n",
        "A: There are 15 trees originally. Then there were 21 trees after some more were planted. So there must have\n",
        "been 21 - 15 = 6. The answer is 6.\n",
        "\n",
        "Q: If there are 3 cars in the parking lot and 2 more cars arrive, how many cars are in the parking lot?\n",
        "A: There are originally 3 cars. 2 more cars arrive. 3 + 2 = 5. The answer is 5.\n",
        "\n",
        "Q: Leah had 32 chocolates and her sister had 42. If they ate 35, how many pieces do they have left in total?\n",
        "A: Originally, Leah had 32 chocolates. Her sister had 42. So in total they had 32 + 42 = 74. After eating 35, they\n",
        "had 74 - 35 = 39. The answer is 39.\n",
        "\n",
        "Q: Jason had 20 lollipops. He gave Denny some lollipops. Now Jason has 12 lollipops. How many lollipops did\n",
        "Jason give to Denny?\n",
        "A: Jason started with 20 lollipops. Then he had 12 after giving some to Denny. So he gave Denny 20 - 12 = 8.\n",
        "The answer is 8.\n",
        "\n",
        "Q: Shawn has five toys. For Christmas, he got two toys each from his mom and dad. How many toys does he\n",
        "have now?\n",
        "A: Shawn started with 5 toys. If he got 2 toys each from his mom and dad, then that is 4 more toys. 5 + 4 = 9.\n",
        "The answer is 9.\n",
        "\n",
        "Q: There were nine computers in the server room. Five more computers were installed each day, from monday\n",
        "to thursday. How many computers are now in the server room?\n",
        "A: There were originally 9 computers. For each of 4 days, 5 more computers were added. So 5 * 4 = 20\n",
        "computers were added. 9 + 20 is 29. The answer is 29.\n",
        "\n",
        "Q: Michael had 58 golf balls. On tuesday, he lost 23 golf balls. On wednesday, he lost 2 more. How many golf\n",
        "balls did he have at the end of wednesday?\n",
        "A: Michael started with 58 golf balls. After losing 23 on tuesday, he had 58 - 23 = 35. After losing 2 more, he\n",
        "had 35 - 2 = 33 golf balls. The answer is 33.\n",
        "\n",
        "Q: Olivia has $23. She bought five bagels for $3 each. How much money does she have left?\n",
        "A: Olivia had 23 dollars. 5 bagels for 3 dollars each will be 5 x 3 = 15 dollars. So she has 23 - 15 dollars left. 23\n",
        "- 15 is 8. The answer is 8.\n",
        "\n",
        "Q: {question}\n",
        "A:\n",
        "\"\"\""
      ],
      "metadata": {
        "id": "5EdgwWOW685b"
      },
      "execution_count": null,
      "outputs": []
    },
    {
      "cell_type": "code",
      "source": [
        "#PROMPT FOR AQUA ALGEBRAIC WORD PROBLEMS\n",
        "\n",
        "system_message = f\"\"\"\n",
        "\n",
        "Q: John found that the average of 15 numbers is 40. If 10 is added to each number then the mean of the numbers\n",
        "is?\n",
        "Answer Choices: (a) 50 (b) 45 (c) 65 (d) 78 (e) 64\n",
        "A: If 10 is added to each number, then the mean of the numbers also increases by 10. So the new mean would be\n",
        "50. The answer is (a).\n",
        "\n",
        "Q: If a / b = 3/4 and 8a + 5b = 22,then find the value of a.\n",
        "Answer Choices: (a) 1/2 (b) 3/2 (c) 5/2 (d) 4/2 (e) 7/2\n",
        "A: If a / b = 3/4, then b = 4a / 3. So 8a + 5(4a / 3) = 22. This simplifies to 8a + 20a / 3 = 22, which means 44a / 3\n",
        "= 22. So a is equal to 3/2. The answer is (b).\n",
        "\n",
        "Q: A person is traveling at 20 km/hr and reached his destiny in 2.5 hr then find the distance?\n",
        "Answer Choices: (a) 53 km (b) 55 km (c) 52 km (d) 60 km (e) 50 km\n",
        "A: The distance that the person traveled would have been 20 km/hr * 2.5 hrs = 50 km. The answer is (e).\n",
        "\n",
        "Q: How many keystrokes are needed to type the numbers from 1 to 500?\n",
        "Answer Choices: (a) 1156 (b) 1392 (c) 1480 (d) 1562 (e) 1788\n",
        "A: There are 9 one-digit numbers from 1 to 9. There are 90 two-digit numbers from 10 to 99. There are 401\n",
        "three-digit numbers from 100 to 500. 9 + 90(2) + 401(3) = 1392. The answer is (b).\n",
        "\n",
        "Q: {question}\n",
        "Answer Choices: {answer_choices}\n",
        "A:\n",
        "\"\"\""
      ],
      "metadata": {
        "id": "qkIVX9He7gYh"
      },
      "execution_count": null,
      "outputs": []
    }
  ]
}