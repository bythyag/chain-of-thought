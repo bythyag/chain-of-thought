{
  "nbformat": 4,
  "nbformat_minor": 0,
  "metadata": {
    "colab": {
      "provenance": [],
      "authorship_tag": "ABX9TyOzHGT8VdG9pZhWI+3Knzmq",
      "include_colab_link": true
    },
    "kernelspec": {
      "name": "python3",
      "display_name": "Python 3"
    },
    "language_info": {
      "name": "python"
    }
  },
  "cells": [
    {
      "cell_type": "markdown",
      "metadata": {
        "id": "view-in-github",
        "colab_type": "text"
      },
      "source": [
        "<a href=\"https://colab.research.google.com/github/bythyag/cot-exps/blob/main/CoT_exps.ipynb\" target=\"_parent\"><img src=\"https://colab.research.google.com/assets/colab-badge.svg\" alt=\"Open In Colab\"/></a>"
      ]
    },
    {
      "cell_type": "code",
      "execution_count": null,
      "metadata": {
        "id": "gF2wYXdkxmHO"
      },
      "outputs": [],
      "source": [
        "!pip install datasets"
      ]
    },
    {
      "cell_type": "code",
      "source": [
        "!pip install huggingface_hub"
      ],
      "metadata": {
        "id": "WY9Mxb82zdu3"
      },
      "execution_count": null,
      "outputs": []
    },
    {
      "cell_type": "code",
      "source": [
        "!pip install --upgrade datasets fsspec huggingface_hub"
      ],
      "metadata": {
        "id": "wQdypJ3y0TR8"
      },
      "execution_count": null,
      "outputs": []
    },
    {
      "cell_type": "code",
      "source": [
        "from huggingface_hub import login\n",
        "login(token=\"---\")"
      ],
      "metadata": {
        "id": "A61_7btLzcEl"
      },
      "execution_count": 8,
      "outputs": []
    },
    {
      "cell_type": "code",
      "source": [
        "import re"
      ],
      "metadata": {
        "id": "khR22HBU5EAJ"
      },
      "execution_count": 49,
      "outputs": []
    },
    {
      "cell_type": "code",
      "source": [
        "from datasets import load_dataset\n",
        "\n",
        "gsm8k = load_dataset(\"openai/gsm8k\", \"main\")\n",
        "svamp = load_dataset(\"ChilleD/SVAMP\")\n",
        "asdiv = load_dataset(\"EleutherAI/asdiv\")\n",
        "aqua = load_dataset(\"deepmind/aqua_rat\")\n",
        "mawps = load_dataset(\"MU-NLPC/Calc-mawps\")"
      ],
      "metadata": {
        "id": "iRDktaGEx5yS"
      },
      "execution_count": null,
      "outputs": []
    },
    {
      "cell_type": "code",
      "source": [
        "# gsm8k\n",
        "\n",
        "def extract_final_answer(text):\n",
        "    match = re.search(r'####\\s*(\\d+)', text)\n",
        "    if match:\n",
        "        return int(match.group(1))\n",
        "    return None\n",
        "\n",
        "print(gsm8k['train']['question'][5])\n",
        "#print(gsm8k['train']['answer'][5])\n",
        "answer = extract_final_answer(gsm8k['train']['answer'][5])\n",
        "print(\"Answer:\", answer)"
      ],
      "metadata": {
        "colab": {
          "base_uri": "https://localhost:8080/"
        },
        "id": "VVtfwiKAyhRe",
        "outputId": "9fb8cf21-327d-4c4d-f009-95dcec7747ce"
      },
      "execution_count": 53,
      "outputs": [
        {
          "output_type": "stream",
          "name": "stdout",
          "text": [
            "Mark has a garden with flowers. He planted plants of three different colors in it. Ten of them are yellow, and there are 80% more of those in purple. There are only 25% as many green flowers as there are yellow and purple flowers. How many flowers does Mark have in his garden?\n",
            "Answer: 35\n"
          ]
        }
      ]
    },
    {
      "cell_type": "code",
      "source": [
        "#SVAMP\n",
        "\n",
        "print(svamp['train']['question_concat'][4])\n",
        "print(svamp['train']['Answer'][4])"
      ],
      "metadata": {
        "colab": {
          "base_uri": "https://localhost:8080/"
        },
        "id": "v9ALZSu80s_Y",
        "outputId": "517ff92c-d2ea-4b73-8d8e-a739de8dd430"
      },
      "execution_count": 19,
      "outputs": [
        {
          "output_type": "stream",
          "name": "stdout",
          "text": [
            "There were 78 dollars in Olivia's wallet. She spent 15 dollars at a supermarket. How much money does she have left?\n",
            "63\n"
          ]
        }
      ]
    },
    {
      "cell_type": "code",
      "source": [
        "#asdiv\n",
        "\n",
        "print(asdiv['validation']['body'][0])\n",
        "print(asdiv['validation']['question'][0])\n",
        "print(asdiv['validation']['answer'][0])\n",
        "print(asdiv['validation']['formula'][0])"
      ],
      "metadata": {
        "colab": {
          "base_uri": "https://localhost:8080/"
        },
        "id": "wF8VF2Pd17Ix",
        "outputId": "907e45ea-4c5b-48c9-b95b-0af2a11c9b47"
      },
      "execution_count": 33,
      "outputs": [
        {
          "output_type": "stream",
          "name": "stdout",
          "text": [
            "Seven red apples and two green apples are in the basket.\n",
            "How many apples are in the basket?\n",
            "9 (apples)\n",
            "7+2=9\n"
          ]
        }
      ]
    },
    {
      "cell_type": "code",
      "source": [
        "#aqua_rat\n",
        "\n",
        "print(aqua['train']['question'][0])\n",
        "print(aqua['train']['options'][0])\n",
        "print(aqua['train']['correct'][0])"
      ],
      "metadata": {
        "colab": {
          "base_uri": "https://localhost:8080/"
        },
        "id": "y75rWVQF2nbG",
        "outputId": "5688d657-ad83-45bc-af82-eb2959ea7b64"
      },
      "execution_count": 36,
      "outputs": [
        {
          "output_type": "stream",
          "name": "stdout",
          "text": [
            "Two friends plan to walk along a 43-km trail, starting at opposite ends of the trail at the same time. If Friend P's rate is 15% faster than Friend Q's, how many kilometers will Friend P have walked when they pass each other?\n",
            "['A)21', 'B)21.5', 'C)22', 'D)22.5', 'E)23']\n",
            "E\n"
          ]
        }
      ]
    },
    {
      "cell_type": "code",
      "source": [
        "#MAWPS\n",
        "\n",
        "print(mawps['train']['question'][0])\n",
        "print(mawps['train']['result'][0])"
      ],
      "metadata": {
        "colab": {
          "base_uri": "https://localhost:8080/"
        },
        "id": "LEql1swQ2uGx",
        "outputId": "271ee640-0dd9-4dec-a81e-91161c6e54bd"
      },
      "execution_count": 46,
      "outputs": [
        {
          "output_type": "stream",
          "name": "stdout",
          "text": [
            "Mark had 2 Doll. Roland proffered him some more. Now Mark has 161 Doll. How many did Roland proffer him?\n",
            "159\n"
          ]
        }
      ]
    }
  ]
}